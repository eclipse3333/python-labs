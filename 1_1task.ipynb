{
 "cells": [
  {
   "cell_type": "code",
   "execution_count": 1,
   "id": "fc608733975c4599",
   "metadata": {
    "ExecuteTime": {
     "end_time": "2024-11-29T17:20:35.380491400Z",
     "start_time": "2024-11-29T17:20:35.355907900Z"
    },
    "collapsed": false,
    "jupyter": {
     "outputs_hidden": false
    }
   },
   "outputs": [
    {
     "ename": "SyntaxError",
     "evalue": "invalid syntax (2687473197.py, line 5)",
     "output_type": "error",
     "traceback": [
      "\u001b[1;36m  Cell \u001b[1;32mIn[1], line 5\u001b[1;36m\u001b[0m\n\u001b[1;33m    - **Офіційна назва**: Йорданське Хашимітське Королівство\u001b[0m\n\u001b[1;37m      ^\u001b[0m\n\u001b[1;31mSyntaxError\u001b[0m\u001b[1;31m:\u001b[0m invalid syntax\n"
     ]
    }
   ],
   "source": [
    "# Йорданія: Інформація про країну\n",
    "\n",
    "## Загальні відомості\n",
    "\n",
    "- **Офіційна назва**: Йорданське Хашимітське Королівство\n",
    "- **Столиця**: Амман\n",
    "- **Офіційна мова**: арабська\n",
    "- **Площа**: **89,342** км²\n",
    "- **Населення**: *понад 10 мільйонів осіб*\n",
    "\n",
    "---\n",
    "\n",
    "## Державний устрій\n",
    "\n",
    "- **Форма правління**: конституційна монархія\n",
    "- **Король**: **Абдулла II**\n",
    "  \n",
    "<mark>Державний устрій Йорданії є унікальним у своєму роді, адже монарх має значний вплив на формування уряду та проведення зовнішньої політики країни.</mark>\n",
    "\n",
    "---\n",
    "\n",
    "## Видатні персоналії\n",
    "\n",
    "- **Абдулла Ібн Аль-Хусейн** — засновник сучасної Йорданії.\n",
    "- **Король Абдулла II** — чинний монарх, реформатор.\n",
    "- **Королева Ранія** — активістка, відома за свою діяльність у сфері освіти та благодійності.\n",
    "\n",
    "---\n",
    "\n",
    "## Культура і природа\n",
    "\n",
    "### Визначні пам'ятки\n",
    "\n",
    "1. **Петра**\n",
    "   - Список ЮНЕСКО\n",
    "   - Архітектурне диво, висічене у скелях пустелі.\n",
    "\n",
    "2. **Мертве море**\n",
    "   - Найнижча точка на поверхні Землі\n",
    "   - Відоме своїми лікувальними властивостями.\n",
    "\n",
    "3. **Ваді-Рам**\n",
    "   - Пустеля з унікальними червоними пісками.\n",
    "   - Відоме місце для зйомок фільмів.\n",
    "\n",
    "---\n",
    "\n",
    "### Таблиця основних пам'яток\n",
    "\n",
    "| Пам’ятка    | Розташування | Категорія     |\n",
    "|-------------|--------------|---------------|\n",
    "| Петра       | Маа'н        | Архітектура   |\n",
    "| Мертве море | На кордоні з Ізраїлем | Природа |\n",
    "| Ваді-Рам    | Південний Йордан | Природа |\n",
    "\n",
    "---\n",
    "\n",
    "## Карта Йорданії\n",
    "\n",
    "[Переглянути карту Йорданії на Google Maps](https://www.google.com/maps/place/%D0%98%D0%BE%D1%80%D0%B4%D0%B0%D0%BD%D0%B8%D1%8F/@31.2731473,35.8035258,8z/data=!3m1!4b1!4m6!3m5!1s0x15006f476664de99:0x8d285b0751264e99!8m2!3d30.585164!4d36.238414!16zL20vMDNfX3k?entry=ttu&g_ep=EgoyMDI0MTAyOS4wIKXMDSoASAFQAw%3D%3D)\n",
    "\n",
    "---\n",
    "\n",
    "## Прапор Йорданії\n",
    "\n",
    "\n",
    "<svg width=\"300\" height=\"200\">\n",
    "  <rect width=\"300\" height=\"66\" style=\"fill:green\" />\n",
    "  <rect y=\"66\" width=\"300\" height=\"66\" style=\"fill:white\" />\n",
    "  <rect y=\"132\" width=\"300\" height=\"66\" style=\"fill:black\" />\n",
    "  <polygon points=\"0,0 0,200 100,100\" style=\"fill:red\" />\n",
    "  <polygon points=\"25,80 37,100 25,120 45,105 5,105\" style=\"fill:white\" />\n",
    "</svg>\n",
    "\n",
    "\n",
    "\n",
    "\n",
    "---\n",
    "\n",
    "### Зображення визначних місць\n",
    "\n",
    "![Петра](https://upload.wikimedia.org/wikipedia/commons/thumb/6/62/Al_Khazneh_Petra_edit_2.jpg/538px-Al_Khazneh_Petra_edit_2.jpg \"Петра — архітектурна пам'ятка Йорданії\")\n"
   ]
  },
  {
   "cell_type": "markdown",
   "id": "059c7d35-f3b7-4434-80ca-1238ea3f5bf7",
   "metadata": {
    "collapsed": false,
    "jupyter": {
     "outputs_hidden": false
    }
   },
   "source": []
  },
  {
   "cell_type": "code",
   "execution_count": null,
   "id": "7e066a58-1d20-47ce-ab58-2ddc23d9a8b0",
   "metadata": {},
   "outputs": [],
   "source": []
  },
  {
   "cell_type": "markdown",
   "id": "8875daff-882d-4706-8315-3f3f2026181c",
   "metadata": {},
   "source": []
  },
  {
   "cell_type": "markdown",
   "id": "735da517-6661-4fce-88b9-dcf098201d04",
   "metadata": {},
   "source": []
  },
  {
   "cell_type": "code",
   "execution_count": null,
   "id": "2b2a4b49-d954-4a47-8826-b3ed8a04c7d7",
   "metadata": {},
   "outputs": [],
   "source": []
  }
 ],
 "metadata": {
  "kernelspec": {
   "display_name": "Python 3 (ipykernel)",
   "language": "python",
   "name": "python3"
  },
  "language_info": {
   "codemirror_mode": {
    "name": "ipython",
    "version": 3
   },
   "file_extension": ".py",
   "mimetype": "text/x-python",
   "name": "python",
   "nbconvert_exporter": "python",
   "pygments_lexer": "ipython3",
   "version": "3.9.13"
  }
 },
 "nbformat": 4,
 "nbformat_minor": 5
}

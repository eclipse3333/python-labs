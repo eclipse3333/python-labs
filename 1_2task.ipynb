{
 "cells": [
  {
   "cell_type": "code",
   "execution_count": 1,
   "id": "8a925b6c-9946-4426-8c09-b0c941b6c412",
   "metadata": {
    "ExecuteTime": {
     "end_time": "2024-11-05T14:06:42.075195600Z",
     "start_time": "2024-11-05T14:06:42.056191200Z"
    }
   },
   "outputs": [
    {
     "name": "stdout",
     "output_type": "stream",
     "text": [
      "[3, 5, 7, 11, 13]\n",
      "[7, 11, 13, 17, 19, 23]\n",
      "[23, 29]\n",
      "[2, 3, 5, 7, 11, 13, 17, 19, 23, 29, 31, 37, 41, 43, 47, 53, 59, 61, 67, 71, 73]\n"
     ]
    }
   ],
   "source": [
    "import math\n",
    "\n",
    "def find_primes_in_range(a, b):\n",
    "\n",
    "    # Перевірка коректності введених значень\n",
    "    if not (isinstance(a, int) and isinstance(b, int)):\n",
    "        raise ValueError(\"Введені значення повинні бути цілими числами.\")\n",
    "    if a > b:\n",
    "        raise ValueError(\"Початкове значення a повинно бути менше або дорівнювати значенню b.\")\n",
    "    if a < 2:\n",
    "        a = 2\n",
    "    \n",
    "    # Список простих чисел\n",
    "    primes = []\n",
    "    \n",
    "    for num in range(a, b + 1):\n",
    "        is_prime = True\n",
    "        for i in range(2, int(math.sqrt(num)) + 1):\n",
    "            if num % i == 0:\n",
    "                is_prime = False\n",
    "                break\n",
    "        if is_prime:\n",
    "            primes.append(num)\n",
    "    \n",
    "    return primes\n",
    "\n",
    "# Приклади використання та тестування\n",
    "print(find_primes_in_range(3, 15)) \n",
    "print(find_primes_in_range(6, 24)) \n",
    "print(find_primes_in_range(20, 30)) \n",
    "print(find_primes_in_range(1, 74)) "
   ]
  },
  {
   "cell_type": "markdown",
   "id": "2601c79f-2775-4f9d-86c0-3b3b8aa7377d",
   "metadata": {},
   "source": []
  }
 ],
 "metadata": {
  "kernelspec": {
   "display_name": "Python 3 (ipykernel)",
   "language": "python",
   "name": "python3"
  },
  "language_info": {
   "codemirror_mode": {
    "name": "ipython",
    "version": 3
   },
   "file_extension": ".py",
   "mimetype": "text/x-python",
   "name": "python",
   "nbconvert_exporter": "python",
   "pygments_lexer": "ipython3",
   "version": "3.9.13"
  }
 },
 "nbformat": 4,
 "nbformat_minor": 5
}
